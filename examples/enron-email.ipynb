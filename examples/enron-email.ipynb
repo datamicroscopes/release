{
 "cells": [
  {
   "cell_type": "markdown",
   "metadata": {},
   "source": [
    "#Clustering the [Enron e-mail corpus](http://www.cs.cmu.edu/~./enron/) using the Infinite Relational Model\n",
    "\n",
    "---\n",
    "\n",
    "Let's setup our environment"
   ]
  },
  {
   "cell_type": "code",
   "execution_count": 9,
   "metadata": {
    "collapsed": false
   },
   "outputs": [],
   "source": [
    "%matplotlib inline\n",
    "import pickle\n",
    "import time\n",
    "import itertools as it\n",
    "import numpy as np\n",
    "import matplotlib.pylab as plt\n",
    "import matplotlib.patches as patches\n",
    "from multiprocessing import cpu_count\n",
    "import seaborn as sns\n",
    "sns.set_context('talk')"
   ]
  },
  {
   "cell_type": "markdown",
   "metadata": {},
   "source": [
    "Below are the functions from datamicroscopes we'll be using to cluster the data"
   ]
  },
  {
   "cell_type": "code",
   "execution_count": 10,
   "metadata": {
    "collapsed": true
   },
   "outputs": [],
   "source": [
    "from microscopes.common.rng import rng\n",
    "from microscopes.common.relation.dataview import numpy_dataview\n",
    "from microscopes.models import bb as beta_bernoulli\n",
    "from microscopes.irm.definition import model_definition\n",
    "from microscopes.irm import model, runner, query\n",
    "from microscopes.kernels import parallel\n",
    "from microscopes.common.query import groups, zmatrix_heuristic_block_ordering, zmatrix_reorder"
   ]
  },
  {
   "cell_type": "markdown",
   "metadata": {},
   "source": [
    "We've made a set of utilities especially for this dataset, `enron_utils`. We'll include these as well.\n",
    "\n",
    "We have downloaded the data and preprocessed it as suggested by [Ishiguro et al. 2012](http://www.kecl.ntt.co.jp/as/members/ishiguro/open/2012AISTATS.pdf).  The results of the scirpt have been stored in the `results.p`.\n",
    "\n",
    "`enron_crawler.py` in the kernels repo includes the script to create `results.p`",
    "\n",
    "`enron_crawler.py` and `enron_utils.py` can be found at https://github.com/datamicroscopes/release/tree/master/examples"
   ]
  },
  {
   "cell_type": "code",
   "execution_count": 11,
   "metadata": {
    "collapsed": true
   },
   "outputs": [],
   "source": [
    "import enron_utils"
   ]
  },
  {
   "cell_type": "markdown",
   "metadata": {},
   "source": [
    "Let's load the data and make a binary matrix to represent email communication between individuals\n",
    "\n",
    "In this matrix, $X_{i,j} = 1$ if and only if person$_{i}$ sent an email to person$_{j}$"
   ]
  },
  {
   "cell_type": "code",
   "execution_count": 12,
   "metadata": {
    "collapsed": false
   },
   "outputs": [
    {
     "name": "stdout",
     "output_type": "stream",
     "text": [
      "115 names in the corpus\n"
     ]
    }
   ],
   "source": [
    "with open('results.p') as fp:\n",
    "    communications = pickle.load(fp)\n",
    "def allnames(o):\n",
    "    for k, v in o:\n",
    "        yield [k] + list(v)\n",
    "names = set(it.chain.from_iterable(allnames(communications)))\n",
    "names = sorted(list(names))\n",
    "namemap = { name : idx for idx, name in enumerate(names) }\n",
    "N = len(names)\n",
    "communications_relation = np.zeros((N, N), dtype=np.bool)\n",
    "for sender, receivers in communications:\n",
    "    sender_id = namemap[sender]\n",
    "    for receiver in receivers:\n",
    "        receiver_id = namemap[receiver]\n",
    "        communications_relation[sender_id, receiver_id] = True\n",
    "\n",
    "print \"%d names in the corpus\" % N"
   ]
  },
  {
   "cell_type": "markdown",
   "metadata": {},
   "source": [
    "Let's visualize the communication matrix"
   ]
  },
  {
   "cell_type": "code",
   "execution_count": 13,
   "metadata": {
    "collapsed": false
   },
   "outputs": [
    {
     "data": {
      "text/plain": [
       "<matplotlib.text.Text at 0x117a40c90>"
      ]
     },
     "execution_count": 13,
     "metadata": {},
     "output_type": "execute_result"
    },
    {
     "data": {
      "image/png": "[encoded data removed]",
      "text/plain": [
       "<matplotlib.figure.Figure at 0x112630510>"
      ]
     },
     "metadata": {},
     "output_type": "display_data"
    }
   ],
   "source": [
    "blue_cmap = sns.light_palette(\"#34495e\", as_cmap=True)\n",
    "labels = [i if i%20 == 0 else '' for i in xrange(N)]\n",
    "sns.heatmap(communications_relation, cmap=blue_cmap, linewidths=0, cbar=False, xticklabels=labels, yticklabels=labels) \n",
    "plt.xlabel('person number')\n",
    "plt.ylabel('person number')\n",
    "plt.title('Email Communication Matrix')"
   ]
  },
  {
   "cell_type": "markdown",
   "metadata": {},
   "source": [
    "Now, let's learn the underlying clusters using the Inifinite Relational Model\n",
    "\n",
    "Let's import the necessary functions from datamicroscopes\n",
    "\n",
    "There are 5 steps necessary in inferring a model with datamicroscopes:\n",
    "1. define the model\n",
    "2. load the data\n",
    "3. initialize the model\n",
    "4. define the runners (MCMC chains)\n",
    "5. run the runners\n",
    "\n",
    "Let's start by defining the model and loading the data\n",
    "\n",
    "To define our model, we need to specify our domains and relations\n",
    "\n",
    "Our domains are described in a list of the cardinalities of each domain\n",
    "\n",
    "Our releations are in a list of tuples which refer to the indicies of each domain and the model type\n",
    "\n",
    "In this case, the our domain is users, which is of size $N$\n",
    "\n",
    "Our relations are users to users, both of cardinality $N$, and we model the relation with beta-bernoulli distribution since our data is binary"
   ]
  },
  {
   "cell_type": "code",
   "execution_count": 14,
   "metadata": {
    "collapsed": false
   },
   "outputs": [],
   "source": [
    "defn = model_definition([N], [((0, 0), beta_bernoulli)])\n",
    "views = [numpy_dataview(communications_relation)]\n",
    "prng = rng()"
   ]
  },
  {
   "cell_type": "markdown",
   "metadata": {},
   "source": [
    "Next, let's initialize the model and define the runners.  \n",
    "\n",
    "These runners are our MCMC chains. We'll use `cpu_count` to define our number of chains."
   ]
  },
  {
   "cell_type": "code",
   "execution_count": null,
   "metadata": {
    "collapsed": false
   },
   "outputs": [],
   "source": [
    "nchains = cpu_count()\n",
    "latents = [model.initialize(defn, views, r=prng, cluster_hps=[{'alpha':1e-3}]) for _ in xrange(nchains)]\n",
    "kc = runner.default_assign_kernel_config(defn)\n",
    "runners = [runner.runner(defn, views, latent, kc) for latent in latents]\n",
    "r = parallel.runner(runners)"
   ]
  },
  {
   "cell_type": "markdown",
   "metadata": {},
   "source": [
    "From here, we can finally run each chain of the sampler 1000 times"
   ]
  },
  {
   "cell_type": "code",
   "execution_count": null,
   "metadata": {
    "collapsed": false
   },
   "outputs": [],
   "source": [
    "start = time.time()\n",
    "r.run(r=prng, niters=1000)\n",
    "print \"inference took {} seconds\".format(time.time() - start)"
   ]
  },
  {
   "cell_type": "markdown",
   "metadata": {},
   "source": [
    "Now that we have learned our model let's get our cluster assignments"
   ]
  },
  {
   "cell_type": "code",
   "execution_count": null,
   "metadata": {
    "collapsed": false
   },
   "outputs": [],
   "source": [
    "infers = r.get_latents()\n",
    "clusters = groups(infers[0].assignments(0), sort=True)\n",
    "ordering = list(it.chain.from_iterable(clusters))"
   ]
  },
  {
   "cell_type": "markdown",
   "metadata": {},
   "source": [
    "Let's sort the communications matrix to highlight our inferred clusters"
   ]
  },
  {
   "cell_type": "code",
   "execution_count": null,
   "metadata": {
    "collapsed": false
   },
   "outputs": [],
   "source": [
    "z = communications_relation.copy()\n",
    "z = z[ordering]\n",
    "z = z[:,ordering]\n",
    "sizes = map(len, clusters)\n",
    "boundaries = np.cumsum(sizes)[:-1]"
   ]
  },
  {
   "cell_type": "markdown",
   "metadata": {},
   "source": [
    "Our model finds suspicious cluster based on the communication data.  Let's color and label these clusters in our communications matrix. "
   ]
  },
  {
   "cell_type": "code",
   "execution_count": 11,
   "metadata": {
    "collapsed": false
   },
   "outputs": [
    {
     "data": {
      "text/plain": [
       "<matplotlib.image.AxesImage at 0x10af923d0>"
      ]
     },
     "execution_count": 11,
     "metadata": {},
     "output_type": "execute_result"
    },
    {
     "data": {
      "image/png": "[encoded data removed]",
      "text/plain": [
       "<matplotlib.figure.Figure at 0x10af871d0>"
      ]
     },
     "metadata": {},
     "output_type": "display_data"
    }
   ],
   "source": [
    "def cluster_with_name(clusters, name, payload=None):\n",
    "    ident = namemap[name]\n",
    "    for idx, cluster in enumerate(clusters):\n",
    "        if ident in cluster:\n",
    "            return idx, (cluster, payload)\n",
    "    raise ValueError(\"could not find name\")\n",
    "\n",
    "suspicious = [\n",
    "    cluster_with_name(clusters, \"horton-s\", {\"color\":\"#66CC66\", \"desc\":\"The pipeline/regulatory group\"}), \n",
    "\n",
    "\n",
    "    cluster_with_name(clusters, \"skilling-j\", {\"color\":\"#FF6600\", \"desc\":\"The VIP/executives group\"}),\n",
    "]\n",
    "suspicious = dict(suspicious)\n",
    "\n",
    "for idx, (boundary, size) in enumerate(zip(boundaries, sizes)):\n",
    "    if size < 5:\n",
    "        continue\n",
    "    plt.plot(range(N), boundary*np.ones(N), color='#0066CC')\n",
    "    plt.plot(boundary*np.ones(N), range(N), color='#0066CC')\n",
    "    if idx in suspicious:\n",
    "        rect = patches.Rectangle((boundary-size, boundary-size), \n",
    "            width=size, height=size, alpha=0.5, fc=suspicious[idx][1][\"color\"])\n",
    "        plt.gca().add_patch(rect)\n",
    "plt.imshow(z, cmap=blue_cmap, interpolation='nearest', aspect='auto')\n",
    "plt.xlabel('Person ID')\n",
    "plt.ylabel('Person ID')\n",
    "plt.title('Cluster Assignments in Enron Dataset')\n",
    "plt.savefig('enron.png')"
   ]
  },
  {
   "cell_type": "markdown",
   "metadata": {},
   "source": [
    "We've identified two suspicious clusters.  Let's look at the data to find out who these individuals are"
   ]
  },
  {
   "cell_type": "code",
   "execution_count": 12,
   "metadata": {
    "collapsed": false
   },
   "outputs": [
    {
     "name": "stdout",
     "output_type": "stream",
     "text": [
      "The pipeline/regulatory group\n",
      "\tLynn Blair \t\t\"?\"\n",
      "\tShelley Corman \t\t\"Vice President Regulatory Affairs\"\n",
      "\tLindy Donoho \t\t\"Employee\"\n",
      "\tDrew Fossum \t\t\"Vice President\"\n",
      "\tTracy Geaccone \t\t\"Employee\"\n",
      "\tharris-s \t\t\"?\"\n",
      "\tRod Hayslett \t\t\"Vice President Also Chief Financial Officer and Treasurer\"\n",
      "\tStanley Horton \t\t\"President Enron Gas Pipeline\"\n",
      "\tKevin Hyatt \t\t\"Director Pipeline Business\"\n",
      "\tMichelle Lokay \t\t\"Employee Administrative Asisstant\"\n",
      "\tTeb Lokey \t\t\"Manager Regulatory Affairs\"\n",
      "\tDanny McCarty \t\t\"Vice President\"\n",
      "\tmcconnell-m \t\t\"?\"\n",
      "\tDarrell Schoolcraft \t\t\"?\"\n",
      "\tKimberly Watson \t\t\"?\"\n",
      "\n",
      "The VIP/executives group\n",
      "\tRick Buy \t\t\"Manager Chief Risk Management Officer\"\n",
      "\tJeff Dasovich \t\t\"Employee Government Relation Executive\"\n",
      "\tDavid Delainey \t\t\"CEO Enron North America and Enron Enery Services\"\n",
      "\tLouise Kitchen \t\t\"President Enron Online\"\n",
      "\tJohn Lavorato \t\t\"CEO Enron America\"\n",
      "\tRichard Shapiro \t\t\"Vice President Regulatory Affairs\"\n",
      "\tJeffery Skilling \t\t\"CEO\"\n",
      "\tBarry Tycholiz \t\t\"Vice President\"\n",
      "\tGreg Whalley \t\t\"President\"\n",
      "\twilliams-j \t\t\"?\"\n",
      "\n"
     ]
    }
   ],
   "source": [
    "def cluster_names(cluster):\n",
    "    return [names[idx] for idx in cluster]\n",
    "def get_full_name(name):\n",
    "    return enron_utils.FULLNAMES.get(name, name)\n",
    "def get_title(name):\n",
    "    return enron_utils.TITLES.get(name, \"?\")\n",
    "\n",
    "for cluster, payload in suspicious.values():\n",
    "    cnames = cluster_names(cluster)\n",
    "    ctitles = map(get_title, cnames)\n",
    "    print payload[\"desc\"]\n",
    "    for n, t in zip(cnames, ctitles):\n",
    "        print \"\\t\", get_full_name(n), '\\t\\t\"{}\"'.format(t)\n",
    "    print"
   ]
  },
  {
   "cell_type": "markdown",
   "metadata": {},
   "source": [
    "Given the uncertainty behind these latent clusters, we can visualize the variablity within these assignments with a z-matrix\n",
    "\n",
    "Ordering the z-matrix allows us to group members of each possible cluster together"
   ]
  },
  {
   "cell_type": "code",
   "execution_count": 13,
   "metadata": {
    "collapsed": false
   },
   "outputs": [],
   "source": [
    "zmat = query.zmatrix(domain=0, latents=infers)\n",
    "zmat = zmatrix_reorder(zmat, zmatrix_heuristic_block_ordering(zmat))"
   ]
  },
  {
   "cell_type": "code",
   "execution_count": 14,
   "metadata": {
    "collapsed": false
   },
   "outputs": [
    {
     "data": {
      "text/plain": [
       "<matplotlib.text.Text at 0x10bc8bc50>"
      ]
     },
     "execution_count": 14,
     "metadata": {},
     "output_type": "execute_result"
    },
    {
     "data": {
      "image/png": "[encoded data removed]",
      "text/plain": [
       "<matplotlib.figure.Figure at 0x10afd2210>"
      ]
     },
     "metadata": {},
     "output_type": "display_data"
    }
   ],
   "source": [
    "sns.heatmap(zmat, cmap=blue_cmap, cbar=False, xticklabels=labels, yticklabels=labels)\n",
    "plt.xlabel('people (sorted)')\n",
    "plt.ylabel('people (sorted)')\n",
    "plt.title('Z-Matrix of IRM Cluster Assignments')"
   ]
  }
 ],
 "metadata": {
  "kernelspec": {
   "display_name": "Python 2",
   "language": "python",
   "name": "python2"
  }
 },
 "nbformat": 4,
 "nbformat_minor": 0
}
